{
  "nbformat": 4,
  "nbformat_minor": 0,
  "metadata": {
    "colab": {
      "name": "Python Projects.ipynb",
      "provenance": [],
      "collapsed_sections": []
    },
    "kernelspec": {
      "name": "python3",
      "display_name": "Python 3"
    },
    "language_info": {
      "name": "python"
    },
    "accelerator": "GPU",
    "gpuClass": "standard"
  },
  "cells": [
    {
      "cell_type": "markdown",
      "source": [
        "To importing datasets from Kaggle,\n",
        "STEP 1: Login to your Kaggle account\n",
        "STEP 2: Goto Account option.\n",
        "Step 3: Tap on 'CREATE API TOKEN' (this downloads a kaggle.json file)\n",
        "STEP 4: Upload the kaggle.json file to the notebook\n",
        "STEP 5: Then write following commands (just remove comment tag)"
      ],
      "metadata": {
        "id": "-XOzmvTfeVIU"
      }
    },
    {
      "cell_type": "code",
      "source": [
        "#!pip install -q kaggle\n",
        "#!mkdir ~/.kaggle\n",
        "#!cp kaggle.json ~/.kaggle/\n",
        "#!chmod 600 ~/.kaggle/kaggle.json\n",
        "#!kaggle datasets download -d vipoooool/new-plant-diseases-dataset\n",
        "#!unzip new-plant-diseases-dataset.zip"
      ],
      "metadata": {
        "id": "svMhSZZVWJ9S"
      },
      "execution_count": null,
      "outputs": []
    },
    {
      "cell_type": "code",
      "source": [
        "import numpy as np\n",
        "import pandas as pd\n",
        "import matplotlib.pyplot as plt\n",
        "import os\n",
        "\n",
        "import keras\n",
        "\n",
        "from keras.preprocessing.image import ImageDataGenerator, img_to_array, load_img\n",
        "from keras.applications.vgg19 import VGG19, preprocess_input, decode_predictions"
      ],
      "metadata": {
        "id": "5cVAWlFAlW_Z"
      },
      "execution_count": null,
      "outputs": []
    },
    {
      "cell_type": "code",
      "source": [
        "#EDA - Exploratory Data Analysis\n",
        "\n",
        "train_datagen = ImageDataGenerator(zoom_range= 0.5,\n",
        "                                   shear_range= 0.3,\n",
        "                                   horizontal_flip= True,\n",
        "                                   preprocessing_function = preprocess_input)\n",
        "\n",
        "val_datagen = ImageDataGenerator(preprocessing_function = preprocess_input) "
      ],
      "metadata": {
        "id": "U71SEovSmrPq"
      },
      "execution_count": null,
      "outputs": []
    },
    {
      "cell_type": "code",
      "source": [
        "train = train_datagen.flow_from_directory(directory =\"/content/New Plant Diseases Dataset(Augmented)/New Plant Diseases Dataset(Augmented)/train\",\n",
        "                                          target_size= (256,256),\n",
        "                                          batch_size= 32)\n",
        "val = val_datagen.flow_from_directory(directory =\"/content/New Plant Diseases Dataset(Augmented)/New Plant Diseases Dataset(Augmented)/valid\",\n",
        "                                          target_size= (256,256),\n",
        "                                          batch_size= 32)"
      ],
      "metadata": {
        "id": "8jDU0fZGnnG4",
        "colab": {
          "base_uri": "https://localhost:8080/"
        },
        "outputId": "a0b9b089-e547-4d2b-955f-06fdcd028a91"
      },
      "execution_count": null,
      "outputs": [
        {
          "output_type": "stream",
          "name": "stdout",
          "text": [
            "Found 70295 images belonging to 38 classes.\n",
            "Found 17572 images belonging to 38 classes.\n"
          ]
        }
      ]
    },
    {
      "cell_type": "code",
      "source": [
        "t_img, label = train.next()"
      ],
      "metadata": {
        "id": "He-oMD87pUW_"
      },
      "execution_count": null,
      "outputs": []
    },
    {
      "cell_type": "code",
      "source": [
        "def plotImage(img_arr, label):\n",
        "  for im, l in zip(img_arr, label):\n",
        "    plt.figure(figsize=(5,5)) \n",
        "    plt.show()"
      ],
      "metadata": {
        "id": "i9qiNrt3pan0"
      },
      "execution_count": null,
      "outputs": []
    },
    {
      "cell_type": "code",
      "source": [
        "plotImage(t_img[:3], label[:3])"
      ],
      "metadata": {
        "id": "pUGi7yG2puLg",
        "colab": {
          "base_uri": "https://localhost:8080/",
          "height": 69
        },
        "outputId": "e01ccb1f-f2cb-4306-c576-77625e684a46"
      },
      "execution_count": null,
      "outputs": [
        {
          "output_type": "display_data",
          "data": {
            "text/plain": [
              "<Figure size 360x360 with 0 Axes>"
            ]
          },
          "metadata": {}
        },
        {
          "output_type": "display_data",
          "data": {
            "text/plain": [
              "<Figure size 360x360 with 0 Axes>"
            ]
          },
          "metadata": {}
        },
        {
          "output_type": "display_data",
          "data": {
            "text/plain": [
              "<Figure size 360x360 with 0 Axes>"
            ]
          },
          "metadata": {}
        }
      ]
    },
    {
      "cell_type": "markdown",
      "source": [
        "**BUILDING OUR MODEL**"
      ],
      "metadata": {
        "id": "ZBj02YzQp7sM"
      }
    },
    {
      "cell_type": "code",
      "source": [
        "from keras.layers import Dense, Flatten\n",
        "from keras.models import Model\n",
        "from keras.applications.vgg19 import VGG19\n",
        "import keras"
      ],
      "metadata": {
        "id": "lGw19vS0p6G1"
      },
      "execution_count": null,
      "outputs": []
    },
    {
      "cell_type": "code",
      "source": [
        "base_model = VGG19(input_shape=(256,256,3), include_top= False)"
      ],
      "metadata": {
        "id": "xKz4sB6mqSo5",
        "colab": {
          "base_uri": "https://localhost:8080/"
        },
        "outputId": "5347e0d0-c5c7-4a57-e735-7e67e1d67cc0"
      },
      "execution_count": null,
      "outputs": [
        {
          "output_type": "stream",
          "name": "stdout",
          "text": [
            "Downloading data from https://storage.googleapis.com/tensorflow/keras-applications/vgg19/vgg19_weights_tf_dim_ordering_tf_kernels_notop.h5\n",
            "80142336/80134624 [==============================] - 0s 0us/step\n",
            "80150528/80134624 [==============================] - 0s 0us/step\n"
          ]
        }
      ]
    },
    {
      "cell_type": "code",
      "source": [
        "for layer in base_model.layers:\n",
        "  layer.trainable= False"
      ],
      "metadata": {
        "id": "Ylrv8dDoqcrf"
      },
      "execution_count": null,
      "outputs": []
    },
    {
      "cell_type": "code",
      "source": [
        "base_model.summary()"
      ],
      "metadata": {
        "id": "L7cWtmtiqmOc",
        "colab": {
          "base_uri": "https://localhost:8080/"
        },
        "outputId": "79636225-4bb9-49cc-f4a6-9aa519f4d6d9"
      },
      "execution_count": null,
      "outputs": [
        {
          "output_type": "stream",
          "name": "stdout",
          "text": [
            "Model: \"vgg19\"\n",
            "_________________________________________________________________\n",
            " Layer (type)                Output Shape              Param #   \n",
            "=================================================================\n",
            " input_1 (InputLayer)        [(None, 256, 256, 3)]     0         \n",
            "                                                                 \n",
            " block1_conv1 (Conv2D)       (None, 256, 256, 64)      1792      \n",
            "                                                                 \n",
            " block1_conv2 (Conv2D)       (None, 256, 256, 64)      36928     \n",
            "                                                                 \n",
            " block1_pool (MaxPooling2D)  (None, 128, 128, 64)      0         \n",
            "                                                                 \n",
            " block2_conv1 (Conv2D)       (None, 128, 128, 128)     73856     \n",
            "                                                                 \n",
            " block2_conv2 (Conv2D)       (None, 128, 128, 128)     147584    \n",
            "                                                                 \n",
            " block2_pool (MaxPooling2D)  (None, 64, 64, 128)       0         \n",
            "                                                                 \n",
            " block3_conv1 (Conv2D)       (None, 64, 64, 256)       295168    \n",
            "                                                                 \n",
            " block3_conv2 (Conv2D)       (None, 64, 64, 256)       590080    \n",
            "                                                                 \n",
            " block3_conv3 (Conv2D)       (None, 64, 64, 256)       590080    \n",
            "                                                                 \n",
            " block3_conv4 (Conv2D)       (None, 64, 64, 256)       590080    \n",
            "                                                                 \n",
            " block3_pool (MaxPooling2D)  (None, 32, 32, 256)       0         \n",
            "                                                                 \n",
            " block4_conv1 (Conv2D)       (None, 32, 32, 512)       1180160   \n",
            "                                                                 \n",
            " block4_conv2 (Conv2D)       (None, 32, 32, 512)       2359808   \n",
            "                                                                 \n",
            " block4_conv3 (Conv2D)       (None, 32, 32, 512)       2359808   \n",
            "                                                                 \n",
            " block4_conv4 (Conv2D)       (None, 32, 32, 512)       2359808   \n",
            "                                                                 \n",
            " block4_pool (MaxPooling2D)  (None, 16, 16, 512)       0         \n",
            "                                                                 \n",
            " block5_conv1 (Conv2D)       (None, 16, 16, 512)       2359808   \n",
            "                                                                 \n",
            " block5_conv2 (Conv2D)       (None, 16, 16, 512)       2359808   \n",
            "                                                                 \n",
            " block5_conv3 (Conv2D)       (None, 16, 16, 512)       2359808   \n",
            "                                                                 \n",
            " block5_conv4 (Conv2D)       (None, 16, 16, 512)       2359808   \n",
            "                                                                 \n",
            " block5_pool (MaxPooling2D)  (None, 8, 8, 512)         0         \n",
            "                                                                 \n",
            "=================================================================\n",
            "Total params: 20,024,384\n",
            "Trainable params: 0\n",
            "Non-trainable params: 20,024,384\n",
            "_________________________________________________________________\n"
          ]
        }
      ]
    },
    {
      "cell_type": "code",
      "source": [
        "X = Flatten()(base_model.output)\n",
        "\n",
        "X = Dense(units = 38, activation='softmax')(X)\n",
        "\n",
        "#Creating our model\n",
        "model = Model(base_model.input, X)"
      ],
      "metadata": {
        "id": "Z5TFgKkFqpX_"
      },
      "execution_count": null,
      "outputs": []
    },
    {
      "cell_type": "code",
      "source": [
        "model.compile(optimizer= 'adam',\n",
        "              loss= keras.losses.categorical_crossentropy,\n",
        "              metrics= ['accuracy'])"
      ],
      "metadata": {
        "id": "932-pOmlslgo"
      },
      "execution_count": null,
      "outputs": []
    },
    {
      "cell_type": "code",
      "source": [
        "model.summary()"
      ],
      "metadata": {
        "colab": {
          "base_uri": "https://localhost:8080/"
        },
        "id": "C1nMyDDDbndl",
        "outputId": "3ce0ddb9-2112-4a98-d4b1-2080ade2f1ca"
      },
      "execution_count": null,
      "outputs": [
        {
          "output_type": "stream",
          "name": "stdout",
          "text": [
            "Model: \"model\"\n",
            "_________________________________________________________________\n",
            " Layer (type)                Output Shape              Param #   \n",
            "=================================================================\n",
            " input_1 (InputLayer)        [(None, 256, 256, 3)]     0         \n",
            "                                                                 \n",
            " block1_conv1 (Conv2D)       (None, 256, 256, 64)      1792      \n",
            "                                                                 \n",
            " block1_conv2 (Conv2D)       (None, 256, 256, 64)      36928     \n",
            "                                                                 \n",
            " block1_pool (MaxPooling2D)  (None, 128, 128, 64)      0         \n",
            "                                                                 \n",
            " block2_conv1 (Conv2D)       (None, 128, 128, 128)     73856     \n",
            "                                                                 \n",
            " block2_conv2 (Conv2D)       (None, 128, 128, 128)     147584    \n",
            "                                                                 \n",
            " block2_pool (MaxPooling2D)  (None, 64, 64, 128)       0         \n",
            "                                                                 \n",
            " block3_conv1 (Conv2D)       (None, 64, 64, 256)       295168    \n",
            "                                                                 \n",
            " block3_conv2 (Conv2D)       (None, 64, 64, 256)       590080    \n",
            "                                                                 \n",
            " block3_conv3 (Conv2D)       (None, 64, 64, 256)       590080    \n",
            "                                                                 \n",
            " block3_conv4 (Conv2D)       (None, 64, 64, 256)       590080    \n",
            "                                                                 \n",
            " block3_pool (MaxPooling2D)  (None, 32, 32, 256)       0         \n",
            "                                                                 \n",
            " block4_conv1 (Conv2D)       (None, 32, 32, 512)       1180160   \n",
            "                                                                 \n",
            " block4_conv2 (Conv2D)       (None, 32, 32, 512)       2359808   \n",
            "                                                                 \n",
            " block4_conv3 (Conv2D)       (None, 32, 32, 512)       2359808   \n",
            "                                                                 \n",
            " block4_conv4 (Conv2D)       (None, 32, 32, 512)       2359808   \n",
            "                                                                 \n",
            " block4_pool (MaxPooling2D)  (None, 16, 16, 512)       0         \n",
            "                                                                 \n",
            " block5_conv1 (Conv2D)       (None, 16, 16, 512)       2359808   \n",
            "                                                                 \n",
            " block5_conv2 (Conv2D)       (None, 16, 16, 512)       2359808   \n",
            "                                                                 \n",
            " block5_conv3 (Conv2D)       (None, 16, 16, 512)       2359808   \n",
            "                                                                 \n",
            " block5_conv4 (Conv2D)       (None, 16, 16, 512)       2359808   \n",
            "                                                                 \n",
            " block5_pool (MaxPooling2D)  (None, 8, 8, 512)         0         \n",
            "                                                                 \n",
            " flatten (Flatten)           (None, 32768)             0         \n",
            "                                                                 \n",
            " dense (Dense)               (None, 38)                1245222   \n",
            "                                                                 \n",
            "=================================================================\n",
            "Total params: 21,269,606\n",
            "Trainable params: 1,245,222\n",
            "Non-trainable params: 20,024,384\n",
            "_________________________________________________________________\n"
          ]
        }
      ]
    },
    {
      "cell_type": "markdown",
      "source": [
        "**EARLY STOPPING AND MODEL CHECK POINT**"
      ],
      "metadata": {
        "id": "pt6F7HzCrGBG"
      }
    },
    {
      "cell_type": "code",
      "source": [
        "from keras.callbacks import ModelCheckpoint, EarlyStopping\n",
        "import os\n",
        "#early stopping\n",
        "es = EarlyStopping(monitor= 'val_accuracy',\n",
        "                   min_delta = 0.01,\n",
        "                   patience= 3,\n",
        "                   verbose= 1)\n",
        "\n",
        "# model check point\n",
        "mc = ModelCheckpoint(filepath= \"best_model.h5\",\n",
        "                     monitor= 'val_accuracy',\n",
        "                     min_delta= 0.01,\n",
        "                     patience= 3, verbose= 1,\n",
        "                     save_best_only= True)\n",
        "\n",
        "cb = [es, mc]"
      ],
      "metadata": {
        "id": "2yOKuGT3rNxw"
      },
      "execution_count": null,
      "outputs": []
    },
    {
      "cell_type": "code",
      "source": [
        "his = model.fit_generator(train, \n",
        "                steps_per_epoch= 16, \n",
        "                epochs= 50,\n",
        "                verbose= 1,\n",
        "                callbacks= cb,\n",
        "                validation_data= val,\n",
        "                validation_steps= 16)"
      ],
      "metadata": {
        "id": "8LLIZc-psMNY",
        "colab": {
          "base_uri": "https://localhost:8080/"
        },
        "outputId": "390cbc56-6fd4-4ee1-b722-df984737c3eb"
      },
      "execution_count": null,
      "outputs": [
        {
          "output_type": "stream",
          "name": "stderr",
          "text": [
            "/usr/local/lib/python3.7/dist-packages/ipykernel_launcher.py:7: UserWarning: `Model.fit_generator` is deprecated and will be removed in a future version. Please use `Model.fit`, which supports generators.\n",
            "  import sys\n"
          ]
        },
        {
          "output_type": "stream",
          "name": "stdout",
          "text": [
            "Epoch 1/50\n",
            "16/16 [==============================] - ETA: 0s - loss: 28.9571 - accuracy: 0.1523\n",
            "Epoch 1: val_accuracy improved from -inf to 0.38086, saving model to best_model.h5\n",
            "16/16 [==============================] - 27s 816ms/step - loss: 28.9571 - accuracy: 0.1523 - val_loss: 15.4771 - val_accuracy: 0.3809\n",
            "Epoch 2/50\n",
            "16/16 [==============================] - ETA: 0s - loss: 15.5862 - accuracy: 0.4121\n",
            "Epoch 2: val_accuracy improved from 0.38086 to 0.56836, saving model to best_model.h5\n",
            "16/16 [==============================] - 13s 815ms/step - loss: 15.5862 - accuracy: 0.4121 - val_loss: 11.2991 - val_accuracy: 0.5684\n",
            "Epoch 3/50\n",
            "16/16 [==============================] - ETA: 0s - loss: 13.4850 - accuracy: 0.5078\n",
            "Epoch 3: val_accuracy improved from 0.56836 to 0.67383, saving model to best_model.h5\n",
            "16/16 [==============================] - 14s 863ms/step - loss: 13.4850 - accuracy: 0.5078 - val_loss: 9.1758 - val_accuracy: 0.6738\n",
            "Epoch 4/50\n",
            "16/16 [==============================] - ETA: 0s - loss: 10.4998 - accuracy: 0.5762\n",
            "Epoch 4: val_accuracy improved from 0.67383 to 0.71484, saving model to best_model.h5\n",
            "16/16 [==============================] - 13s 832ms/step - loss: 10.4998 - accuracy: 0.5762 - val_loss: 6.7666 - val_accuracy: 0.7148\n",
            "Epoch 5/50\n",
            "16/16 [==============================] - ETA: 0s - loss: 9.0065 - accuracy: 0.6191\n",
            "Epoch 5: val_accuracy improved from 0.71484 to 0.72852, saving model to best_model.h5\n",
            "16/16 [==============================] - 13s 839ms/step - loss: 9.0065 - accuracy: 0.6191 - val_loss: 6.9372 - val_accuracy: 0.7285\n",
            "Epoch 6/50\n",
            "16/16 [==============================] - ETA: 0s - loss: 8.8674 - accuracy: 0.6680\n",
            "Epoch 6: val_accuracy did not improve from 0.72852\n",
            "16/16 [==============================] - 13s 837ms/step - loss: 8.8674 - accuracy: 0.6680 - val_loss: 7.8226 - val_accuracy: 0.6914\n",
            "Epoch 7/50\n",
            "16/16 [==============================] - ETA: 0s - loss: 7.6146 - accuracy: 0.6934\n",
            "Epoch 7: val_accuracy improved from 0.72852 to 0.76172, saving model to best_model.h5\n",
            "16/16 [==============================] - 13s 833ms/step - loss: 7.6146 - accuracy: 0.6934 - val_loss: 5.5616 - val_accuracy: 0.7617\n",
            "Epoch 8/50\n",
            "16/16 [==============================] - ETA: 0s - loss: 7.2464 - accuracy: 0.7285\n",
            "Epoch 8: val_accuracy did not improve from 0.76172\n",
            "16/16 [==============================] - 13s 814ms/step - loss: 7.2464 - accuracy: 0.7285 - val_loss: 7.2322 - val_accuracy: 0.7539\n",
            "Epoch 9/50\n",
            "16/16 [==============================] - ETA: 0s - loss: 7.5115 - accuracy: 0.7031\n",
            "Epoch 9: val_accuracy did not improve from 0.76172\n",
            "16/16 [==============================] - 13s 819ms/step - loss: 7.5115 - accuracy: 0.7031 - val_loss: 6.4937 - val_accuracy: 0.7344\n",
            "Epoch 10/50\n",
            "16/16 [==============================] - ETA: 0s - loss: 8.4387 - accuracy: 0.7090\n",
            "Epoch 10: val_accuracy improved from 0.76172 to 0.81250, saving model to best_model.h5\n",
            "16/16 [==============================] - 13s 832ms/step - loss: 8.4387 - accuracy: 0.7090 - val_loss: 4.9776 - val_accuracy: 0.8125\n",
            "Epoch 11/50\n",
            "16/16 [==============================] - ETA: 0s - loss: 7.3209 - accuracy: 0.7031\n",
            "Epoch 11: val_accuracy did not improve from 0.81250\n",
            "16/16 [==============================] - 13s 845ms/step - loss: 7.3209 - accuracy: 0.7031 - val_loss: 6.7915 - val_accuracy: 0.7988\n",
            "Epoch 12/50\n",
            "16/16 [==============================] - ETA: 0s - loss: 7.4627 - accuracy: 0.7461\n",
            "Epoch 12: val_accuracy did not improve from 0.81250\n",
            "16/16 [==============================] - 13s 822ms/step - loss: 7.4627 - accuracy: 0.7461 - val_loss: 7.0481 - val_accuracy: 0.7852\n",
            "Epoch 13/50\n",
            "16/16 [==============================] - ETA: 0s - loss: 10.5837 - accuracy: 0.6836\n",
            "Epoch 13: val_accuracy improved from 0.81250 to 0.83008, saving model to best_model.h5\n",
            "16/16 [==============================] - 13s 843ms/step - loss: 10.5837 - accuracy: 0.6836 - val_loss: 5.1758 - val_accuracy: 0.8301\n",
            "Epoch 14/50\n",
            "16/16 [==============================] - ETA: 0s - loss: 7.7373 - accuracy: 0.7324\n",
            "Epoch 14: val_accuracy did not improve from 0.83008\n",
            "16/16 [==============================] - 13s 827ms/step - loss: 7.7373 - accuracy: 0.7324 - val_loss: 8.1542 - val_accuracy: 0.7695\n",
            "Epoch 15/50\n",
            "16/16 [==============================] - ETA: 0s - loss: 8.6178 - accuracy: 0.7109\n",
            "Epoch 15: val_accuracy did not improve from 0.83008\n",
            "16/16 [==============================] - 13s 837ms/step - loss: 8.6178 - accuracy: 0.7109 - val_loss: 6.0486 - val_accuracy: 0.8008\n",
            "Epoch 16/50\n",
            "16/16 [==============================] - ETA: 0s - loss: 9.2587 - accuracy: 0.7266\n",
            "Epoch 16: val_accuracy did not improve from 0.83008\n",
            "16/16 [==============================] - 13s 825ms/step - loss: 9.2587 - accuracy: 0.7266 - val_loss: 6.2002 - val_accuracy: 0.8262\n",
            "Epoch 16: early stopping\n"
          ]
        }
      ]
    },
    {
      "cell_type": "code",
      "source": [
        "h = his.history\n",
        "h.keys()"
      ],
      "metadata": {
        "id": "Bo3q6DTxwikz",
        "colab": {
          "base_uri": "https://localhost:8080/"
        },
        "outputId": "3296422f-1013-4cb3-ccfd-c99168b39efe"
      },
      "execution_count": null,
      "outputs": [
        {
          "output_type": "execute_result",
          "data": {
            "text/plain": [
              "dict_keys(['loss', 'accuracy', 'val_loss', 'val_accuracy'])"
            ]
          },
          "metadata": {},
          "execution_count": 23
        }
      ]
    },
    {
      "cell_type": "code",
      "source": [
        "plt.plot(h['accuracy'])\n",
        "plt.plot(h['val_accuracy'], c = \"red\")\n",
        "plt.title(\"acc vs v-acc\")\n",
        "plt.show()"
      ],
      "metadata": {
        "id": "h32iqnvfwpa1",
        "colab": {
          "base_uri": "https://localhost:8080/",
          "height": 281
        },
        "outputId": "ea631b7d-dace-4a40-c448-a08484706a8c"
      },
      "execution_count": null,
      "outputs": [
        {
          "output_type": "display_data",
          "data": {
            "text/plain": [
              "<Figure size 432x288 with 1 Axes>"
            ],
            "image/png": "[encoded data removed]"
          },
          "metadata": {
            "needs_background": "light"
          }
        }
      ]
    },
    {
      "cell_type": "code",
      "source": [
        "plt.plot(h['loss'])\n",
        "plt.plot(h['val_loss'], c = \"red\")\n",
        "plt.title(\"loss vs v-loss\")\n",
        "plt.show()"
      ],
      "metadata": {
        "id": "OEjci7b_xFal",
        "colab": {
          "base_uri": "https://localhost:8080/",
          "height": 281
        },
        "outputId": "53f401e8-43b1-4d4a-865b-9bc84fcbb8b7"
      },
      "execution_count": null,
      "outputs": [
        {
          "output_type": "display_data",
          "data": {
            "text/plain": [
              "<Figure size 432x288 with 1 Axes>"
            ],
            "image/png": "[encoded data removed]"
          },
          "metadata": {
            "needs_background": "light"
          }
        }
      ]
    },
    {
      "cell_type": "code",
      "source": [
        "#load best model\n",
        "\n",
        "from keras.models import load_model\n",
        "\n",
        "model = load_model(\"/content/best_model.h5\")"
      ],
      "metadata": {
        "id": "_A-q2lSdxPow"
      },
      "execution_count": null,
      "outputs": []
    },
    {
      "cell_type": "code",
      "source": [
        "acc = model.evaluate_generator(val)[1] \n",
        "\n",
        "print(f\"The accuracy of model is : {acc*100}%\")"
      ],
      "metadata": {
        "id": "SypIzDrdxcG-",
        "colab": {
          "base_uri": "https://localhost:8080/"
        },
        "outputId": "ea587227-d7cc-497f-b1f3-21a12f37e06e"
      },
      "execution_count": null,
      "outputs": [
        {
          "output_type": "stream",
          "name": "stderr",
          "text": [
            "/usr/local/lib/python3.7/dist-packages/ipykernel_launcher.py:1: UserWarning: `Model.evaluate_generator` is deprecated and will be removed in a future version. Please use `Model.evaluate`, which supports generators.\n",
            "  \"\"\"Entry point for launching an IPython kernel.\n"
          ]
        },
        {
          "output_type": "stream",
          "name": "stdout",
          "text": [
            "The accuracy of model is : 80.73639869689941%\n"
          ]
        }
      ]
    },
    {
      "cell_type": "code",
      "source": [
        "ref = dict(zip(list(train.class_indices.values()),\n",
        "               list(train.class_indices.keys())))"
      ],
      "metadata": {
        "id": "AzTR8jt4ykQa"
      },
      "execution_count": null,
      "outputs": []
    },
    {
      "cell_type": "code",
      "source": [
        "def prediction(path):\n",
        "\n",
        "  img = load_img(path, target_size=(256,256))\n",
        "  i = img_to_array(img)\n",
        "  im = preprocess_input(i)\n",
        "  img = np.expand_dims(im, axis= 0)\n",
        "  pred = np.argmax(model.predict(img))\n",
        "  print(f\" the image belongs to {ref[pred]}\")"
      ],
      "metadata": {
        "id": "NhS8a-WSx1b9"
      },
      "execution_count": null,
      "outputs": []
    },
    {
      "cell_type": "code",
      "source": [
        "path = \"/content/test/test/PotatoEarlyBlight5.JPG\"\n",
        "\n",
        "prediction(path)"
      ],
      "metadata": {
        "id": "tIHBhSfXx1RZ",
        "colab": {
          "base_uri": "https://localhost:8080/"
        },
        "outputId": "9cfc0b4d-f433-4152-9801-77c58bc5649f"
      },
      "execution_count": null,
      "outputs": [
        {
          "output_type": "stream",
          "name": "stdout",
          "text": [
            " the image belongs to Potato___Early_blight\n"
          ]
        }
      ]
    },
    {
      "cell_type": "code",
      "source": [
        "train.class_indices"
      ],
      "metadata": {
        "colab": {
          "base_uri": "https://localhost:8080/"
        },
        "id": "sPt8o4tclnWh",
        "outputId": "82c6c74a-26e7-4968-ce9d-d3d3882d7462"
      },
      "execution_count": null,
      "outputs": [
        {
          "output_type": "execute_result",
          "data": {
            "text/plain": [
              "{'Apple___Apple_scab': 0,\n",
              " 'Apple___Black_rot': 1,\n",
              " 'Apple___Cedar_apple_rust': 2,\n",
              " 'Apple___healthy': 3,\n",
              " 'Blueberry___healthy': 4,\n",
              " 'Cherry_(including_sour)___Powdery_mildew': 5,\n",
              " 'Cherry_(including_sour)___healthy': 6,\n",
              " 'Corn_(maize)___Cercospora_leaf_spot Gray_leaf_spot': 7,\n",
              " 'Corn_(maize)___Common_rust_': 8,\n",
              " 'Corn_(maize)___Northern_Leaf_Blight': 9,\n",
              " 'Corn_(maize)___healthy': 10,\n",
              " 'Grape___Black_rot': 11,\n",
              " 'Grape___Esca_(Black_Measles)': 12,\n",
              " 'Grape___Leaf_blight_(Isariopsis_Leaf_Spot)': 13,\n",
              " 'Grape___healthy': 14,\n",
              " 'Orange___Haunglongbing_(Citrus_greening)': 15,\n",
              " 'Peach___Bacterial_spot': 16,\n",
              " 'Peach___healthy': 17,\n",
              " 'Pepper,_bell___Bacterial_spot': 18,\n",
              " 'Pepper,_bell___healthy': 19,\n",
              " 'Potato___Early_blight': 20,\n",
              " 'Potato___Late_blight': 21,\n",
              " 'Potato___healthy': 22,\n",
              " 'Raspberry___healthy': 23,\n",
              " 'Soybean___healthy': 24,\n",
              " 'Squash___Powdery_mildew': 25,\n",
              " 'Strawberry___Leaf_scorch': 26,\n",
              " 'Strawberry___healthy': 27,\n",
              " 'Tomato___Bacterial_spot': 28,\n",
              " 'Tomato___Early_blight': 29,\n",
              " 'Tomato___Late_blight': 30,\n",
              " 'Tomato___Leaf_Mold': 31,\n",
              " 'Tomato___Septoria_leaf_spot': 32,\n",
              " 'Tomato___Spider_mites Two-spotted_spider_mite': 33,\n",
              " 'Tomato___Target_Spot': 34,\n",
              " 'Tomato___Tomato_Yellow_Leaf_Curl_Virus': 35,\n",
              " 'Tomato___Tomato_mosaic_virus': 36,\n",
              " 'Tomato___healthy': 37}"
            ]
          },
          "metadata": {},
          "execution_count": 31
        }
      ]
    }
  ]
}