{
  "nbformat": 4,
  "nbformat_minor": 0,
  "metadata": {
    "colab": {
      "name": "model.ipynb",
      "provenance": []
    },
    "kernelspec": {
      "name": "python3",
      "display_name": "Python 3"
    },
    "language_info": {
      "name": "python"
    }
  },
  "cells": [
    {
      "cell_type": "code",
      "execution_count": 7,
      "metadata": {
        "colab": {
          "base_uri": "https://localhost:8080/"
        },
        "id": "QeZUaYM4tgKZ",
        "outputId": "c812b786-1f59-45ff-a2a3-680f44296999"
      },
      "outputs": [
        {
          "output_type": "stream",
          "name": "stdout",
          "text": [
            "WARNING:tensorflow:6 out of the last 6 calls to <function Model.make_predict_function.<locals>.predict_function at 0x7f3ae139c290> triggered tf.function retracing. Tracing is expensive and the excessive number of tracings could be due to (1) creating @tf.function repeatedly in a loop, (2) passing tensors with different shapes, (3) passing Python objects instead of tensors. For (1), please define your @tf.function outside of the loop. For (2), @tf.function has experimental_relax_shapes=True option that relaxes argument shapes that can avoid unnecessary retracing. For (3), please refer to https://www.tensorflow.org/guide/function#controlling_retracing and https://www.tensorflow.org/api_docs/python/tf/function for  more details.\n",
            "30\n"
          ]
        }
      ],
      "source": [
        "import numpy as np\n",
        "import keras\n",
        "\n",
        "from keras.preprocessing.image import ImageDataGenerator, img_to_array, load_img\n",
        "from keras.applications.vgg19 import VGG19, preprocess_input, decode_predictions\n",
        "from keras.models import load_model\n",
        "\n",
        "model = load_model(\"/content/model.h5\")\n",
        "\n",
        "def prediction(path):\n",
        "\n",
        "    img = load_img(path, target_size=(256,256))\n",
        "    i = img_to_array(img)\n",
        "    im = preprocess_input(i)\n",
        "    img = np.expand_dims(im, axis= 0)\n",
        "    pred = np.argmax(model.predict(img))\n",
        "    print(pred)\n",
        "\n",
        "path = \"/content/healthy corn.jpg\"\n",
        "\n",
        "prediction(path)"
      ]
    }
  ]
}